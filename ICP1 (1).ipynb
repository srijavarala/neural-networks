{
  "nbformat": 4,
  "nbformat_minor": 0,
  "metadata": {
    "colab": {
      "provenance": []
    },
    "kernelspec": {
      "name": "python3",
      "display_name": "Python 3"
    },
    "language_info": {
      "name": "python"
    }
  },
  "cells": [
    {
      "cell_type": "code",
      "execution_count": 1,
      "metadata": {
        "colab": {
          "base_uri": "https://localhost:8080/"
        },
        "id": "yxITf8NhjWnN",
        "outputId": "12275733-e901-49c9-c08c-830c513f769d"
      },
      "outputs": [
        {
          "output_type": "stream",
          "name": "stdout",
          "text": [
            "Enter your first name: Srija\n",
            "Enter your last name: Varala\n",
            "Your full name is: Srija Varala\n"
          ]
        }
      ],
      "source": [
        "def full_name(first_name, last_name):\n",
        "    return first_name + \" \" + last_name\n",
        "first_name = input(\"Enter your first name: \")\n",
        "last_name = input(\"Enter your last name: \")\n",
        "Full_name = full_name(first_name, last_name)\n",
        "print(\"Your full name is:\", Full_name)\n"
      ]
    },
    {
      "cell_type": "code",
      "source": [
        "def string_alternative(input_string):\n",
        "    return input_string[::2]\n",
        "def main():\n",
        "    input_string = input(\"Enter the input string: \")\n",
        "    result = string_alternative(input_string)\n",
        "    print(\"Every other character in output string:\", result)\n",
        "if __name__ == \"__main__\":\n",
        "    main()"
      ],
      "metadata": {
        "colab": {
          "base_uri": "https://localhost:8080/"
        },
        "id": "iPAeB-KFj6F5",
        "outputId": "c3f3416f-90ea-48cb-a9cc-b811a4c11d67"
      },
      "execution_count": 3,
      "outputs": [
        {
          "output_type": "stream",
          "name": "stdout",
          "text": [
            "Enter the input string: srija varala\n",
            "Every other character in output string: siavrl\n"
          ]
        }
      ]
    },
    {
      "cell_type": "code",
      "source": [
        "def count_word_occurrences(line, word_count):\n",
        "    words = line.split()\n",
        "    for word in words:\n",
        "        word_count[word] = word_count.get(word, 0) + 1\n",
        "\n",
        "def main():\n",
        "    input_file_name = \"input.txt\"\n",
        "    output_file_name = \"output.txt\"\n",
        "\n",
        "    try:\n",
        "        with open(input_file_name, 'r') as file:\n",
        "            lines = file.readlines()\n",
        "        word_count = {}\n",
        "        for line in lines:\n",
        "            count_word_occurrences(line, word_count)\n",
        "        output_lines = []\n",
        "        for word, count in word_count.items():\n",
        "            output_lines.append(f\"{word}: {count}\")\n",
        "        for output_line in output_lines:\n",
        "            print(output_line)\n",
        "        with open(output_file_name, 'w') as output_file:\n",
        "            output_file.write('\\n'.join(output_lines))\n",
        "        print(f\"\\nWord count results saved in {output_file_name}\")\n",
        "    except FileNotFoundError:\n",
        "        print(f\"Error: File '{input_file_name}' not found.\")\n",
        "if __name__ == \"__main__\":\n",
        "    main()"
      ],
      "metadata": {
        "colab": {
          "base_uri": "https://localhost:8080/"
        },
        "id": "b80zS_HgjtA8",
        "outputId": "c5b605b1-dd92-4b1f-c3a5-166fb83f4c99"
      },
      "execution_count": 6,
      "outputs": [
        {
          "output_type": "stream",
          "name": "stdout",
          "text": [
            "Python: 1\n",
            "Course: 2\n",
            "Deep: 1\n",
            "Learning: 1\n",
            "\n",
            "Word count results saved in output.txt\n"
          ]
        }
      ]
    },
    {
      "cell_type": "code",
      "source": [
        "def convert_inches_to_cm(heights_in_inches):\n",
        "    heights_in_cm = []\n",
        "    for height in heights_in_inches:\n",
        "        cm = round(height * 2.54, 2)\n",
        "        heights_in_cm.append(cm)\n",
        "    return heights_in_cm\n",
        "\n",
        "def main():\n",
        "    heights_in_inches = []\n",
        "    n = int(input(\"Enter the number of customers: \"))\n",
        "    for i in range(n):\n",
        "        height = float(input(f\"Enter height for customer {i+1} in inches: \"))\n",
        "        heights_in_inches.append(height)\n",
        "    heights_in_cm = convert_inches_to_cm(heights_in_inches)\n",
        "    print(\"Heights in centimeters:\", heights_in_cm)\n",
        "if __name__ == \"__main__\":\n",
        "    main()"
      ],
      "metadata": {
        "colab": {
          "base_uri": "https://localhost:8080/"
        },
        "id": "y5HlyCK1j44p",
        "outputId": "59f2026f-d760-440b-a22c-ed5a157d15c3"
      },
      "execution_count": 5,
      "outputs": [
        {
          "output_type": "stream",
          "name": "stdout",
          "text": [
            "Enter the number of customers: 2\n",
            "Enter height for customer 1 in inches: 12\n",
            "Enter height for customer 2 in inches: 23\n",
            "Heights in centimeters: [30.48, 58.42]\n"
          ]
        }
      ]
    }
  ]
}