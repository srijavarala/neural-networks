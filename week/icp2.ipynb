{
  "nbformat": 4,
  "nbformat_minor": 0,
  "metadata": {
    "colab": {
      "provenance": [],
      "authorship_tag": "ABX9TyPAOygRaq8M2qArUFnecu07",
      "include_colab_link": true
    },
    "kernelspec": {
      "name": "python3",
      "display_name": "Python 3"
    },
    "language_info": {
      "name": "python"
    }
  },
  "cells": [
    {
      "cell_type": "markdown",
      "metadata": {
        "id": "view-in-github",
        "colab_type": "text"
      },
      "source": [
        "<a href=\"https://colab.research.google.com/github/srijavarala/neural-networks/blob/main/week/icp2.ipynb\" target=\"_parent\"><img src=\"https://colab.research.google.com/assets/colab-badge.svg\" alt=\"Open In Colab\"/></a>"
      ]
    },
    {
      "cell_type": "code",
      "execution_count": null,
      "metadata": {
        "id": "m4Pmsarpd0kz"
      },
      "outputs": [],
      "source": [
        "import numpy as np\n",
        "\n",
        "# Part 1: Class Programming\n",
        "class Employee:\n",
        "    # Class variable to count the number of employees\n",
        "    count = 0\n",
        "\n",
        "    def __init__(self, name, family, salary, department):\n",
        "        self.name = name\n",
        "        self.family = family\n",
        "        self.salary = salary\n",
        "        self.department = department\n",
        "        Employee.count += 1\n",
        "\n",
        "    @classmethod\n",
        "    def average_salary(cls, employees):\n",
        "        if not employees:\n",
        "            return 0\n",
        "        total_salary = sum(emp.salary for emp in employees)\n",
        "        return total_salary / len(employees)"
      ]
    },
    {
      "cell_type": "code",
      "source": [
        "# FulltimeEmployee class inheriting from Employee\n",
        "class FulltimeEmployee(Employee):\n",
        "    def __init__(self, name, family, salary, department):\n",
        "        super().__init__(name, family, salary, department)\n",
        "\n",
        "# Create instances of Employee and FulltimeEmployee\n",
        "Emp1 = Employee(\"Srija\", \"Reddy\", 50000, \"HR\")\n",
        "Emp2 = FulltimeEmployee(\"Mahi\", \"reddy\", 70000, \"IT\")\n",
        "Emp3 = FulltimeEmployee(\"shwetha\", \"reddy\", 80000, \"Finance\")\n",
        "\n",
        "# List of all employees\n",
        "Total_employees = [Emp1, Emp2, Emp3]"
      ],
      "metadata": {
        "id": "ybYFVVOAd88M"
      },
      "execution_count": null,
      "outputs": []
    },
    {
      "cell_type": "code",
      "source": [
        "# Display employee details and average salary\n",
        "print(f\"Total Employees: {Employee.count}\")\n",
        "print(f\"Average Salary: {Employee.average_salary(Total_employees):.2f}\")"
      ],
      "metadata": {
        "colab": {
          "base_uri": "https://localhost:8080/"
        },
        "id": "EfJSEDpVeKNU",
        "outputId": "9546a3bf-d6f2-459c-859f-caf917df3573"
      },
      "execution_count": null,
      "outputs": [
        {
          "output_type": "stream",
          "name": "stdout",
          "text": [
            "Total Employees: 3\n",
            "Average Salary: 66666.67\n"
          ]
        }
      ]
    },
    {
      "cell_type": "code",
      "source": [
        "# Part 2: Numpy Operations\n",
        "# Create a random vector of size 20 with float values in the range 1-20 to make it uniformly random\n",
        "random_vector = np.random.uniform(1, 20, 20)\n",
        "\n",
        "# Reshaping the vector to a 4x5 matrix\n",
        "matrix = random_vector.reshape(4, 5)"
      ],
      "metadata": {
        "id": "qazvtXrbeNWG"
      },
      "execution_count": null,
      "outputs": []
    },
    {
      "cell_type": "code",
      "source": [
        "# Replace the maximum value in each row with 0 without using a loop\n",
        "row_indices = np.arange(matrix.shape[0])\n",
        "# Use np.argmax along axis=1 to find indices of max values in each row\n",
        "col_indices = np.argmax(matrix, axis=1)\n",
        "matrix[row_indices, col_indices] = 0"
      ],
      "metadata": {
        "id": "usx6WnEqedRY"
      },
      "execution_count": null,
      "outputs": []
    },
    {
      "cell_type": "code",
      "source": [
        "# Display the results\n",
        "print(\"\\nOriginal Random Vector:\")\n",
        "print(random_vector)\n",
        "print(\"\\n Now the Reshaped Matrix (4x5):\")\n",
        "print(matrix)"
      ],
      "metadata": {
        "colab": {
          "base_uri": "https://localhost:8080/"
        },
        "id": "euZlE8X-efCo",
        "outputId": "a70782f5-5d1c-4c9e-dfe5-1bc1aa87abf2"
      },
      "execution_count": null,
      "outputs": [
        {
          "output_type": "stream",
          "name": "stdout",
          "text": [
            "\n",
            "Original Random Vector:\n",
            "[ 2.80141716  1.53184354  3.06325104  2.29811166  0.          0.\n",
            " 11.12157029 15.5521303   4.34225585 14.62185012  4.50201392  0.\n",
            " 13.97073286 14.54986744 17.3358782  18.92204137 15.88388021 11.27016516\n",
            "  0.          6.50745432]\n",
            "\n",
            " Now the Reshaped Matrix (4x5):\n",
            "[[ 2.80141716  1.53184354  3.06325104  2.29811166  0.        ]\n",
            " [ 0.         11.12157029 15.5521303   4.34225585 14.62185012]\n",
            " [ 4.50201392  0.         13.97073286 14.54986744 17.3358782 ]\n",
            " [18.92204137 15.88388021 11.27016516  0.          6.50745432]]\n"
          ]
        }
      ]
    }
  ]
}